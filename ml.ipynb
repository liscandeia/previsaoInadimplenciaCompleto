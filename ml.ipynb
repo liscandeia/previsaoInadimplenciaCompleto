{
 "cells": [
  {
   "cell_type": "markdown",
   "metadata": {},
   "source": [
    "## Parte 5\n",
    "- Separação de Dados de Treino e de Teste\n",
    "- Normalização dos Dados\n",
    "- Criação e Treino do Modelo\n",
    "- Avaliação das Métricas e Variaveis mais importantes"
   ]
  },
  {
   "cell_type": "code",
   "execution_count": null,
   "metadata": {},
   "outputs": [],
   "source": []
  }
 ],
 "metadata": {
  "language_info": {
   "name": "python"
  }
 },
 "nbformat": 4,
 "nbformat_minor": 2
}
